{
 "cells": [
  {
   "cell_type": "code",
   "execution_count": 2,
   "metadata": {},
   "outputs": [],
   "source": [
    "import numpy as np\n",
    "import pandas as pd\n",
    "import time"
   ]
  },
  {
   "cell_type": "code",
   "execution_count": 3,
   "metadata": {},
   "outputs": [],
   "source": [
    "class LogisticRegression:\n",
    "    \n",
    "    def __init__(self, num_classes = 2):\n",
    "        self.num_classes = num_classes\n",
    "        \n",
    "    def sigmoid(self, z):\n",
    "        sig = 1 / (1 + np.exp(-z))\n",
    "        return sig\n",
    "    \n",
    "    def cost(self, theta, x, y, reg_type, lamb):\n",
    "        m = len(y)\n",
    "        sigmoids = self.sigmoid(np.dot(x, theta))\n",
    "        first_log = np.log(sigmoids)\n",
    "        second_log = np.log(1 - sigmoids)\n",
    "        test = -y*first_log - (1 - y)*second_log\n",
    "        if reg_type == 'L2': \n",
    "            J = sum(test)/m + lamb/(2*m) * sum(theta[1:]**2)\n",
    "        elif reg_type == 'L1':\n",
    "            J = sum(test)/m + lamb/(2*m) * sum(abs(theta[1:]))\n",
    "        elif reg_type == 'elastic':\n",
    "            J = sum(test)/m + lamb/(2*m) * sum(abs(theta[1:])) + + lamb/(2*m) * sum(theta[1:]**2)\n",
    "    \n",
    "        grad = 1/m*np.dot(x.T,(sigmoids - y))\n",
    "        grad[1:] = grad[1:] + lamb/m * theta[1:]\n",
    "        return J, grad\n",
    "        \n",
    "            \n",
    "    def gradient_descent(self, theta, x, y, reg_type, lamb, alpha, max_iters):\n",
    "        it = 0\n",
    "        while it < max_iters:\n",
    "            J, grad = self.cost(theta, x, y, reg_type, lamb)\n",
    "            theta = theta - alpha * grad  \n",
    "            it += 1\n",
    "        return theta\n",
    "    \n",
    "    def fit(self, X_train, Y_train, reg_type = 'L2', lamb = 0, alpha = 0.1, max_iters = 100):\n",
    "        \n",
    "        m = X_train.shape[0]\n",
    "        n = X_train.shape[1]\n",
    "\n",
    "        self.theta = np.ndarray(shape=(self.num_classes, n + 1), dtype=float) \n",
    "        initial_theta = np.zeros(n+1)\n",
    "\n",
    "        X_train_fix = np.concatenate((np.ones((m, 1)), X_train), axis=1)\n",
    "        \n",
    "        start = time.time()\n",
    "        for c in range(self.num_classes):\n",
    "            print(f'Trainings done: {c}/{self.num_classes}')\n",
    "            y_c = np.array([int(y_val == c) for y_val in Y_train])\n",
    "            theta_new = self.gradient_descent(initial_theta, X_train_fix, y_c, reg_type, lamb, alpha, max_iters)\n",
    "            theta_new = theta_new.reshape(theta_new.shape[0], 1)\n",
    "            self.theta[c, :] = np.transpose(theta_new)\n",
    "            end = time.time()\n",
    "            if (end - start)/60 < 1:\n",
    "                print(f'Time elapsed: {end - start:.2f} s')\n",
    "            else:\n",
    "                print(f'Time elapsed: {(end - start)/60:.2f} m')\n",
    "                \n",
    "    def predict(self, X_test):\n",
    "        m2 = X_test.shape[0]\n",
    "        X_test_fix = np.concatenate((np.ones((m2, 1)), X_test), axis=1)\n",
    "        hyp = self.theta.dot(np.transpose(X_test_fix))\n",
    "        hyp = np.transpose(hyp)\n",
    "\n",
    "        y_pred = []\n",
    "        for i in range(len(hyp)):\n",
    "            data = list(hyp[i, :])\n",
    "            most_likely = data.index(max(data))\n",
    "            y_pred.append(most_likely)\n",
    "        return(y_pred)\n",
    "    \n",
    "    def accuracy(self, y_test, y_pred):\n",
    "        acc = 0\n",
    "        for i in range(len(y_pred)):\n",
    "            if y_pred[i] == Y_test[i]:\n",
    "                acc += 1\n",
    "        return acc/len(y_pred)\n",
    "                    \n",
    "\n",
    "        \n"
   ]
  },
  {
   "cell_type": "code",
   "execution_count": 11,
   "metadata": {},
   "outputs": [
    {
     "name": "stdout",
     "output_type": "stream",
     "text": [
      "Trainings done: 0/10\n",
      "Time elapsed: 7.00 s\n",
      "Trainings done: 1/10\n",
      "Time elapsed: 14.13 s\n",
      "Trainings done: 2/10\n",
      "Time elapsed: 20.98 s\n",
      "Trainings done: 3/10\n",
      "Time elapsed: 28.05 s\n",
      "Trainings done: 4/10\n",
      "Time elapsed: 34.88 s\n",
      "Trainings done: 5/10\n",
      "Time elapsed: 41.84 s\n",
      "Trainings done: 6/10\n",
      "Time elapsed: 49.01 s\n",
      "Trainings done: 7/10\n",
      "Time elapsed: 56.05 s\n",
      "Trainings done: 8/10\n",
      "Time elapsed: 1.05 m\n",
      "Trainings done: 9/10\n",
      "Time elapsed: 1.17 m\n"
     ]
    }
   ],
   "source": [
    "lr = LogisticRegression(num_classes = 10)\n",
    "\n",
    "from tensorflow.keras.datasets import mnist\n",
    "(X_train, Y_train), (X_test, Y_test) = mnist.load_data()\n",
    "X_train = X_train.reshape(60000, 784)\n",
    "X_test = X_test.reshape(10000, 784)\n",
    "X_train = X_train.astype('float32')\n",
    "X_test = X_test.astype('float32')\n",
    "X_train /= 255\n",
    "X_test /= 255\n",
    "\n",
    "lr.fit(X_train, Y_train)\n",
    "y_pred = lr.predict(X_test)\n",
    "accuracy = lr.accuracy(Y_test, y_pred)"
   ]
  },
  {
   "cell_type": "code",
   "execution_count": 12,
   "metadata": {},
   "outputs": [
    {
     "data": {
      "text/plain": [
       "(60000, 784)"
      ]
     },
     "execution_count": 12,
     "metadata": {},
     "output_type": "execute_result"
    }
   ],
   "source": [
    "X_train.shape"
   ]
  },
  {
   "cell_type": "code",
   "execution_count": 13,
   "metadata": {},
   "outputs": [
    {
     "data": {
      "text/plain": [
       "(60000,)"
      ]
     },
     "execution_count": 13,
     "metadata": {},
     "output_type": "execute_result"
    }
   ],
   "source": [
    "Y_train.shape"
   ]
  },
  {
   "cell_type": "code",
   "execution_count": 14,
   "metadata": {},
   "outputs": [
    {
     "name": "stdout",
     "output_type": "stream",
     "text": [
      "0.8575\n"
     ]
    }
   ],
   "source": [
    "print(accuracy)"
   ]
  },
  {
   "cell_type": "code",
   "execution_count": null,
   "metadata": {},
   "outputs": [],
   "source": []
  }
 ],
 "metadata": {
  "kernelspec": {
   "display_name": "Python 3",
   "language": "python",
   "name": "python3"
  },
  "language_info": {
   "codemirror_mode": {
    "name": "ipython",
    "version": 3
   },
   "file_extension": ".py",
   "mimetype": "text/x-python",
   "name": "python",
   "nbconvert_exporter": "python",
   "pygments_lexer": "ipython3",
   "version": "3.8.3"
  }
 },
 "nbformat": 4,
 "nbformat_minor": 4
}
